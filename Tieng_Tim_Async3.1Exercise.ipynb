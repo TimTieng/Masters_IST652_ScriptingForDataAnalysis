{
 "cells": [
  {
   "cell_type": "code",
   "execution_count": 1,
   "metadata": {},
   "outputs": [],
   "source": [
    "# Course: IST-652 Scripting For Data Analysis\n",
    "# Student: Tim Tieng\n",
    "# Lab Number: 2\n",
    "# Due Date: April 21, 2023\n",
    "\n",
    "# Lab 2 Prompt:\n",
    "# Use the NBA-Attendance-2015.txt and the 2-4-1ReadingFiles jupyter program as a starting point to read in the data. Then for each line, create a string using string and number formatting that puts the team, total attendance, average attendance, and capacity into a formatted string. Each line should look something like:\n",
    "# ‘The overall attendance at Atlanta was 13,993, average attendance was 9,456 and the capacity was 102.06%’\n"
   ]
  },
  {
   "cell_type": "code",
   "execution_count": 2,
   "metadata": {},
   "outputs": [
    {
     "name": "stdout",
     "output_type": "stream",
     "text": [
      "The overall attendance for the Bulls in the year 2015 was 894659. The average attendance was 21820, and the capacity was 104.3%\n",
      "\n",
      "The overall attendance for the Cavaliers in the year 2015 was 843042. The average attendance was 20562, and the capacity was 100.0%\n",
      "\n",
      "The overall attendance for the Mavericks in the year 2015 was 825901. The average attendance was 20143, and the capacity was 104.9%\n",
      "\n",
      "The overall attendance for the Raptors in the year 2015 was 812863. The average attendance was 19825, and the capacity was 100.1%\n",
      "\n",
      "The overall attendance for the NY Knicks in the year 2015 was 812292. The average attendance was 19812, and the capacity was 100.0%\n",
      "\n",
      "The overall attendance for the Heat in the year 2015 was 809350. The average attendance was 19740, and the capacity was 100.7%\n",
      "\n",
      "The overall attendance for the Warriors in the year 2015 was 803436. The average attendance was 19596, and the capacity was 100.0%\n",
      "\n",
      "The overall attendance for the Trail Blazers in the year 2015 was 794085. The average attendance was 19367, and the capacity was 99.6%\n",
      "\n",
      "The overall attendance for the Jazz in the year 2015 was 791489. The average attendance was 19304, and the capacity was 97.0%\n",
      "\n",
      "The overall attendance for the Clippers in the year 2015 was 786910. The average attendance was 19192, and the capacity was 100.7%\n",
      "\n",
      "The overall attendance for the Lakers in the year 2015 was 778877. The average attendance was 18997, and the capacity was 99.7%\n",
      "\n",
      "The overall attendance for the Spurs in the year 2015 was 756445. The average attendance was 18449, and the capacity was 99.3%\n",
      "\n",
      "The overall attendance for the Celtics in the year 2015 was 749076. The average attendance was 18270, and the capacity was 98.1%\n",
      "\n",
      "The overall attendance for the Thunder in the year 2015 was 746323. The average attendance was 18203, and the capacity was 100.0%\n",
      "\n",
      "The overall attendance for the Rockets in the year 2015 was 737244. The average attendance was 17981, and the capacity was 99.7%\n",
      "\n",
      "The overall attendance for the Wizards in the year 2015 was 725426. The average attendance was 17693, and the capacity was 87.3%\n",
      "\n",
      "The overall attendance for the Magic in the year 2015 was 719275. The average attendance was 17543, and the capacity was 93.1%\n",
      "\n",
      "The overall attendance for the Hornets in the year 2015 was 716894. The average attendance was 17485, and the capacity was 91.7%\n",
      "\n",
      "The overall attendance for the Kings in the year 2015 was 707526. The average attendance was 17256, and the capacity was 99.7%\n",
      "\n",
      "The overall attendance for the Suns in the year 2015 was 701405. The average attendance was 17107, and the capacity was 92.9%\n",
      "\n",
      "The overall attendance for the Pacers in the year 2015 was 690733. The average attendance was 16847, and the capacity was 92.7%\n",
      "\n",
      "The overall attendance for the Hawks in the year 2015 was 690150. The average attendance was 16832, and the capacity was 89.9%\n",
      "\n",
      "The overall attendance for the Pelicans in the year 2015 was 688549. The average attendance was 16793, and the capacity was 97.7%\n",
      "\n",
      "The overall attendance for the Grizzlies in the year 2015 was 684603. The average attendance was 16697, and the capacity was 92.2%\n",
      "\n",
      "The overall attendance for the Pistons in the year 2015 was 677138. The average attendance was 16515, and the capacity was 74.8%\n",
      "\n",
      "The overall attendance for the Bucks in the year 2015 was 621808. The average attendance was 15166, and the capacity was 81.0%\n",
      "\n",
      "The overall attendance for the Nets in the year 2015 was 620142. The average attendance was 15125, and the capacity was 83.6%\n",
      "\n",
      "The overall attendance for the 76ers in the year 2015 was 610121. The average attendance was 14881, and the capacity was 73.2%\n",
      "\n",
      "The overall attendance for the Timberwolves in the year 2015 was 581178. The average attendance was 14175, and the capacity was 73.2%\n",
      "\n",
      "The overall attendance for the Nuggets in the year 2015 was 577898. The average attendance was 14095, and the capacity was 73.6%\n",
      "\n",
      "DONE\n"
     ]
    }
   ],
   "source": [
    "NBAAttendanceFile = open ('/Users/timtieng/Library/CloudStorage/OneDrive-Personal/Desktop/Masters in Applied Data Science/IST-652 Scripting For Data Analysis/Week 2 - Booleans and Dictionairs/nba-attendance-2015.txt', 'r')\n",
    "\n",
    "# Data Columns = Team Rank (0), Team Name (1), Total Attendance(2), Average Attendance(3), Percent Capacity(4)\n",
    "\n",
    "# Itereate through the file \n",
    "\n",
    "numberOfTeams = 0\n",
    "NBATeams = []\n",
    "\n",
    "for line in NBAAttendanceFile:\n",
    "    # increment numberOfTeams by 1\n",
    "    numberOfTeams += 1\n",
    "    # Strip the newline\n",
    "    textLine = line.strip()\n",
    "    # strip on the whitespaces\n",
    "    singleTeam = textLine.split()\n",
    "    # Append to NBATeams\n",
    "    NBATeams.append(singleTeam)\n",
    "\n",
    "# Test by Printing\n",
    "# print(NBATeams)\n",
    "\n",
    "for team in NBATeams:\n",
    "    # Noticed that teams with multiple names affected output. Added If-Statement to determine length and adjust indices accordingly\n",
    "    if len(team) > 5:\n",
    "        print(f\"The overall attendance for the {team[1]} {team[2]} in the year 2015 was {team[3]}. The average attendance was {team[4]}, and the capacity was {round(float(team[5]),2)}%\")\n",
    "        print()\n",
    "    else:\n",
    "        print(f\"The overall attendance for the {team[1]} in the year 2015 was {team[2]}. The average attendance was {team[3]}, and the capacity was {round(float(team[4]),2)}%\")\n",
    "        print()\n",
    "        \n",
    "print(\"DONE\")"
   ]
  },
  {
   "cell_type": "code",
   "execution_count": null,
   "metadata": {},
   "outputs": [],
   "source": []
  },
  {
   "cell_type": "code",
   "execution_count": null,
   "metadata": {},
   "outputs": [],
   "source": []
  }
 ],
 "metadata": {
  "kernelspec": {
   "display_name": "Python 3 (ipykernel)",
   "language": "python",
   "name": "python3"
  },
  "language_info": {
   "codemirror_mode": {
    "name": "ipython",
    "version": 3
   },
   "file_extension": ".py",
   "mimetype": "text/x-python",
   "name": "python",
   "nbconvert_exporter": "python",
   "pygments_lexer": "ipython3",
   "version": "3.10.10"
  },
  "vscode": {
   "interpreter": {
    "hash": "aee8b7b246df8f9039afb4144a1f6fd8d2ca17a180786b69acc140d282b71a49"
   }
  }
 },
 "nbformat": 4,
 "nbformat_minor": 2
}
