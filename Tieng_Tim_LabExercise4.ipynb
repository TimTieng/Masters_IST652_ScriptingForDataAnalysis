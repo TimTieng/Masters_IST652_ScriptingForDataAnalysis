{
 "cells": [
  {
   "cell_type": "code",
   "execution_count": null,
   "id": "7a7c3fe3",
   "metadata": {},
   "outputs": [],
   "source": [
    "# Course: IST-652 Scripting For Data Analysis\n",
    "# Student: Tim Tieng\n",
    "# Lab Number: 4\n",
    "# Due Date: May 5, 2023"
   ]
  },
  {
   "cell_type": "code",
   "execution_count": 5,
   "id": "924158cb",
   "metadata": {},
   "outputs": [],
   "source": [
    "# Problem 1 -Write a Python function to multiply all the numbers in a list. \n",
    "# Please write your own function to accomplish this (do not use canned functions from outside libraries).\n",
    "\n",
    "emptyList = []\n",
    "runningValue = 0\n",
    "\n",
    "def multiplyListItems():\n",
    "    length = int(input(\"How many values do you want to enter?: \"))\n",
    "    while True:\n",
    "        try:\n",
    "            for i in range(length):\n",
    "                num = float(input(\"Please enter a number: \"))\n",
    "                emptyList.append(num)\n",
    "                break\n",
    "        except ValueError:\n",
    "            print(\"Invalid input. Please enter a numerical or float value.\")"
   ]
  },
  {
   "cell_type": "code",
   "execution_count": null,
   "id": "eea75ac6",
   "metadata": {},
   "outputs": [
    {
     "name": "stdout",
     "output_type": "stream",
     "text": [
      "How many values do you want to enter?: 5\n",
      "Please enter a number: 8\n",
      "Please enter a number: 2\n",
      "Please enter a number: 3\n",
      "Please enter a number: -1\n",
      "Please enter a number: 7\n",
      "Please enter a number: 1\n",
      "Please enter a number: 1\n",
      "Please enter a number: 1\n",
      "Please enter a number: 1\n"
     ]
    }
   ],
   "source": [
    "multiplyListItems()"
   ]
  },
  {
   "cell_type": "code",
   "execution_count": null,
   "id": "90feb9ec",
   "metadata": {},
   "outputs": [],
   "source": []
  }
 ],
 "metadata": {
  "kernelspec": {
   "display_name": "Python 3 (ipykernel)",
   "language": "python",
   "name": "python3"
  },
  "language_info": {
   "codemirror_mode": {
    "name": "ipython",
    "version": 3
   },
   "file_extension": ".py",
   "mimetype": "text/x-python",
   "name": "python",
   "nbconvert_exporter": "python",
   "pygments_lexer": "ipython3",
   "version": "3.10.10"
  }
 },
 "nbformat": 4,
 "nbformat_minor": 5
}
