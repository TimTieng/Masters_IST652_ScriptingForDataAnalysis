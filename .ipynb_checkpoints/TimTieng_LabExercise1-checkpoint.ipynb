{
 "cells": [
  {
   "cell_type": "code",
   "execution_count": 2,
   "metadata": {},
   "outputs": [
    {
     "name": "stdout",
     "output_type": "stream",
     "text": [
      "0\n",
      "1\n",
      "8\n",
      "27\n",
      "64\n",
      "125\n",
      "216\n",
      "DONE\n",
      "[0, 1, 8, 27, 64, 125, 216]\n",
      "DONE\n"
     ]
    }
   ],
   "source": [
    "# Course: IST-652 Scripting For Data Analysis\n",
    "# Student: Tim Tieng\n",
    "# Lab Number: 1\n",
    "# Due Date: April 14, 2023\n",
    "\n",
    "# Lab 1 Prompt:\n",
    "# Write a program to print the cube of all numbers from 1 to 6. A cube of a number is x3 (x * x * x).\n",
    "# Use a loop (either a for or while loop) to go through the numbers and print out the cube of each number.\n",
    "\n",
    "# Brute Force\n",
    "def cubedValues():\n",
    "    for i in range(7):\n",
    "        print(i ** 3)\n",
    "\n",
    "cubedValues()\n",
    "print(\"DONE\")\n",
    "\n",
    "# Refactored Solution\n",
    "def cubedValues2():\n",
    "    cubedList = []\n",
    "    for i in range(7):\n",
    "        cubedList.append(i ** 3)\n",
    "    print(cubedList)\n",
    "    return cubedList\n",
    "\n",
    "cubedValues2()\n",
    "print(\"DONE\")"
   ]
  },
  {
   "cell_type": "code",
   "execution_count": null,
   "metadata": {},
   "outputs": [],
   "source": []
  }
 ],
 "metadata": {
  "kernelspec": {
   "display_name": "Python 3 (ipykernel)",
   "language": "python",
   "name": "python3"
  },
  "language_info": {
   "codemirror_mode": {
    "name": "ipython",
    "version": 3
   },
   "file_extension": ".py",
   "mimetype": "text/x-python",
   "name": "python",
   "nbconvert_exporter": "python",
   "pygments_lexer": "ipython3",
   "version": "3.10.10"
  },
  "vscode": {
   "interpreter": {
    "hash": "aee8b7b246df8f9039afb4144a1f6fd8d2ca17a180786b69acc140d282b71a49"
   }
  }
 },
 "nbformat": 4,
 "nbformat_minor": 2
}
