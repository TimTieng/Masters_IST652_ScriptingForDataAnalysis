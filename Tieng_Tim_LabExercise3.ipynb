{
 "cells": [
  {
   "cell_type": "code",
   "execution_count": null,
   "id": "6630f907",
   "metadata": {},
   "outputs": [],
   "source": [
    "# Course: IST-652 Scripting For Data Analysis\n",
    "# Student: Tim Tieng\n",
    "# Lab Number: 3\n",
    "# Due Date: April 28, 2023\n"
   ]
  },
  {
   "cell_type": "code",
   "execution_count": 4,
   "id": "fa227c22",
   "metadata": {},
   "outputs": [],
   "source": [
    "# Provided Dictionaries\n",
    "\n",
    "stock = {\"banana\": 6, \"apple\": 0, \"orange\": 32, \"pear\": 15}\n",
    "prices = {\"banana\": 4, \"apple\": 2, \"orange\": 1.5, \"pear\": 3}"
   ]
  },
  {
   "cell_type": "code",
   "execution_count": 5,
   "id": "1b760671",
   "metadata": {},
   "outputs": [
    {
     "name": "stdout",
     "output_type": "stream",
     "text": [
      "32\n",
      "{'banana': 6, 'apple': 0, 'orange': 32, 'pear': 15, 'cherry': 55}\n",
      "{'banana': 4, 'apple': 2, 'orange': 1.5, 'pear': 3, 'cherry': 8}\n"
     ]
    }
   ],
   "source": [
    "# Question A - Show the expression that gets the value of the stock dictionary at the key ‘orange’. \n",
    "# Print out the results. Show a statement that adds an item to the stock dictionary called ‘cherry’ \n",
    "# with some integer value and that adds ‘cherry’ to the prices dictionary with a numeric value. \n",
    "# (Or pick your own fruit name.) Make sure you label and print your results.\n",
    "\n",
    "orangeKeyStockDict = stock['orange']\n",
    "print(orangeKeyStockDict)\n",
    "\n",
    "# Add 'Cherry' key to the stock and prices dictionaries with some value\n",
    "stock['cherry'] = 55\n",
    "prices['cherry']= 8\n",
    "# Confirm it was added\n",
    "print(stock)\n",
    "print(prices)"
   ]
  },
  {
   "cell_type": "code",
   "execution_count": 9,
   "id": "cd279ad9",
   "metadata": {},
   "outputs": [
    {
     "name": "stdout",
     "output_type": "stream",
     "text": [
      "{'banana': 6, 'apple': 0, 'orange': 32, 'pear': 15, 'cherry': 55}\n",
      "\n",
      "banana 6\n",
      "apple 0\n",
      "orange 32\n",
      "pear 15\n",
      "cherry 55\n"
     ]
    }
   ],
   "source": [
    "# Question B- Write the code for a loop that iterates over the stock dictionary and prints each key and value.\n",
    "\n",
    "# Baseline Output\n",
    "print(stock)\n",
    "print()\n",
    "\n",
    "# Access the .items() method of the dictionary class -- iterate via for loop for keys and value\n",
    "for key, value in stock.items():\n",
    "    print(key, value)\n"
   ]
  },
  {
   "cell_type": "code",
   "execution_count": 21,
   "id": "4a762e41",
   "metadata": {},
   "outputs": [
    {
     "name": "stdout",
     "output_type": "stream",
     "text": [
      "Number of apples in stock: 0\n",
      "Number of bananas in stock: 6\n",
      "Number of pears in stock: 15\n",
      "Combined Inventory: 21\n"
     ]
    }
   ],
   "source": [
    "# Question C - Write the code that will sum the total number in stock of the items in the groceries list.\n",
    "# How many apples + bananas + pears are there? Display the total items labeled appropriately.\n",
    "\n",
    "# Provided List\n",
    "groceries = ['apple', 'banana', 'pear']\n",
    "\n",
    "# Initialize variables to keep track of the total number of apples, bananas, and pears\n",
    "totalApples = 0\n",
    "totalBananas = 0\n",
    "totalPears = 0\n",
    "\n",
    "# Iterate over the groceries list and add up the value for each item in the stock dictionary\n",
    "for item in groceries:\n",
    "    if item == 'apple':\n",
    "        totalApples += stock[item]\n",
    "    elif item == 'banana':\n",
    "        totalBananas += stock[item]\n",
    "    elif item == 'pear':\n",
    "        totalPears += stock[item]\n",
    "\n",
    "# Calculate the total number of items and display the result\n",
    "totalItems = totalApples + totalBananas + totalPears\n",
    "\n",
    "print(f'Number of apples in stock: {totalApples}')\n",
    "print(f'Number of bananas in stock: {totalBananas}')\n",
    "print(f'Number of pears in stock: {totalPears}')\n",
    "print(f'Combined Inventory: {totalItems}')\n"
   ]
  },
  {
   "cell_type": "code",
   "execution_count": 13,
   "id": "a97bfc50",
   "metadata": {},
   "outputs": [
    {
     "name": "stdout",
     "output_type": "stream",
     "text": [
      "The total price of inventory items in stock: $117.0\n"
     ]
    }
   ],
   "source": [
    "# Question 4 - Write the code that can print out the total value in stock of all the items. \n",
    "# This program can iterate over the stock dictionary and for each item multiply the \n",
    "# number in stock times the price of that item in the prices dictionary. \n",
    "# (This can include the items for ‘cherry’ or not, as you choose.) \n",
    "# Display the total value with appropriate label and formatting of the total value in dollars.\n",
    "\n",
    "# Provided Dictionaries\n",
    "\n",
    "stock = {\"banana\": 6, \"apple\": 0, \"orange\": 32, \"pear\": 15}\n",
    "prices = {\"banana\": 4, \"apple\": 2, \"orange\": 1.5, \"pear\": 3}\n",
    "\n",
    "# Create variable that holds the total price of the inventory\n",
    "totalInventoryPrice = 0.0\n",
    "\n",
    "for item in stock:\n",
    "    totalInventoryPrice += stock[item] * prices[item]\n",
    "    round(totalInventoryPrice,2)\n",
    "    \n",
    "print(f\"The total price of inventory items in stock: ${totalInventoryPrice}\")\n",
    "    "
   ]
  },
  {
   "cell_type": "code",
   "execution_count": null,
   "id": "b85bc9dc",
   "metadata": {},
   "outputs": [],
   "source": []
  }
 ],
 "metadata": {
  "kernelspec": {
   "display_name": "Python 3 (ipykernel)",
   "language": "python",
   "name": "python3"
  },
  "language_info": {
   "codemirror_mode": {
    "name": "ipython",
    "version": 3
   },
   "file_extension": ".py",
   "mimetype": "text/x-python",
   "name": "python",
   "nbconvert_exporter": "python",
   "pygments_lexer": "ipython3",
   "version": "3.10.10"
  }
 },
 "nbformat": 4,
 "nbformat_minor": 5
}
